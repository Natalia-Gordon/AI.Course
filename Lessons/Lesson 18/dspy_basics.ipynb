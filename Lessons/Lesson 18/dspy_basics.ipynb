{
 "cells": [
  {
   "cell_type": "markdown",
   "id": "916f2eb7",
   "metadata": {},
   "source": [
    "# DSPy Basics\n",
    "\n",
    "This notebook demonstrates a minimal DSPy Signature with Predict, plus a Chain-of-Thought variant.\n",
    "It uses Gemini via `dspy.LM` and expects `GOOGLE_API_KEY` in a `.env` at the project root."
   ]
  },
  {
   "cell_type": "code",
   "execution_count": 9,
   "id": "b4793178",
   "metadata": {},
   "outputs": [
    {
     "ename": "AttributeError",
     "evalue": "module 'dspy' has no attribute 'LM'",
     "output_type": "error",
     "traceback": [
      "\u001b[1;31m---------------------------------------------------------------------------\u001b[0m",
      "\u001b[1;31mAttributeError\u001b[0m                            Traceback (most recent call last)",
      "Cell \u001b[1;32mIn[9], line 11\u001b[0m\n\u001b[0;32m      8\u001b[0m \u001b[38;5;28;01mif\u001b[39;00m \u001b[38;5;129;01mnot\u001b[39;00m api_key:\n\u001b[0;32m      9\u001b[0m     \u001b[38;5;28;01mraise\u001b[39;00m \u001b[38;5;167;01mValueError\u001b[39;00m(\u001b[38;5;124m\"\u001b[39m\u001b[38;5;124mGOOGLE_API_KEY not found. Create a .env with GOOGLE_API_KEY=...\u001b[39m\u001b[38;5;124m\"\u001b[39m)\n\u001b[1;32m---> 11\u001b[0m lm \u001b[38;5;241m=\u001b[39m \u001b[43mdspy\u001b[49m\u001b[38;5;241;43m.\u001b[39;49m\u001b[43mLM\u001b[49m(\u001b[38;5;124m\"\u001b[39m\u001b[38;5;124mgemini/gemini-2.5-flash-lite\u001b[39m\u001b[38;5;124m\"\u001b[39m, api_key\u001b[38;5;241m=\u001b[39mapi_key, max_output_tokens\u001b[38;5;241m=\u001b[39m\u001b[38;5;241m2000\u001b[39m)\n\u001b[0;32m     12\u001b[0m dspy\u001b[38;5;241m.\u001b[39mconfigure(lm\u001b[38;5;241m=\u001b[39mlm)\n\u001b[0;32m     13\u001b[0m \u001b[38;5;28mprint\u001b[39m(\u001b[38;5;124m\"\u001b[39m\u001b[38;5;124mDSPy configured with Gemini.\u001b[39m\u001b[38;5;124m\"\u001b[39m)\n",
      "\u001b[1;31mAttributeError\u001b[0m: module 'dspy' has no attribute 'LM'"
     ]
    }
   ],
   "source": [
    "# Setup: imports and LM configuration (Gemini)\n",
    "import os\n",
    "from dotenv import load_dotenv\n",
    "import dspy\n",
    "\n",
    "load_dotenv()\n",
    "api_key = os.getenv(\"GOOGLE_API_KEY\")\n",
    "if not api_key:\n",
    "    raise ValueError(\"GOOGLE_API_KEY not found. Create a .env with GOOGLE_API_KEY=...\")\n",
    "\n",
    "lm = dspy.LM(\"gemini/gemini-2.5-flash-lite\", api_key=api_key, max_output_tokens=2000)\n",
    "dspy.configure(lm=lm)\n",
    "print(\"DSPy configured with Gemini.\")"
   ]
  },
  {
   "cell_type": "markdown",
   "id": "4aea46f6",
   "metadata": {},
   "source": [
    "## Define a Signature\n",
    "We'll define a tiny summarization signature: input some text, output a short summary."
   ]
  },
  {
   "cell_type": "code",
   "execution_count": null,
   "id": "ca9a648c",
   "metadata": {},
   "outputs": [],
   "source": [
    "class Summarize(dspy.Signature):\n",
    "    \"\"\"Summarize the given text in 1-2 concise sentences.\"\"\"\n",
    "    text = dspy.InputField(desc=\"Text to summarize\")\n",
    "    summary = dspy.OutputField(desc=\"A concise summary of the text\")"
   ]
  },
  {
   "cell_type": "markdown",
   "id": "d7bba1d7",
   "metadata": {},
   "source": [
    "## Predict(Signature)\n",
    "Create a Predict module and run it on a short paragraph."
   ]
  },
  {
   "cell_type": "code",
   "execution_count": null,
   "id": "c9575c63",
   "metadata": {},
   "outputs": [],
   "source": [
    "predict_summary = dspy.Predict(Summarize)\n",
    "paragraph = (\n",
    "    \" Solar panels are devices that convert sunlight into electricity using photovoltaic cells. \"\n",
    "    \"These cells are made of semiconductor materials that absorb sunlight and generate an electric current. \"\n",
    "    \"The electricity generated can be used to power homes, businesses, and even vehicles. \"\n",
    "    \"Solar panels are commonly installed on rooftops of homes and buildings to provide renewable energy. \"\n",
    "    \"They are also used in large-scale solar farms to generate electricity for entire communities. \"\n",
    "    \"By harnessing the power of the sun, solar panels contribute to reducing greenhouse gas emissions and dependence on fossil fuels. \"\n",
    "    \"The installation of solar panels has become more affordable due to advancements in technology and government incentives. \"\n",
    "    \"In addition to environmental benefits, solar energy can lead to significant cost savings on electricity bills. \"\n",
    "    \"Solar panels require minimal maintenance and can last for decades, making them a reliable energy source. \"\n",
    "    \"As the world moves towards sustainable energy solutions, solar panels play a crucial role in the transition to a greener future.\"\n",
    ")\n",
    "\n",
    "prediction = predict_summary(text=paragraph)\n",
    "print(\"Summary:\\n\", prediction.summary)"
   ]
  },
  {
   "cell_type": "markdown",
   "id": "2af1235e",
   "metadata": {},
   "source": [
    "## Inspecting LM History\n",
    "\n",
    "DSPy keeps a history of all interactions with the language model. You can use `dspy.inspect_history(n=1)` to see the most recent prompt sent to the LM and its raw response. This is useful for debugging and understanding how DSPy constructs prompts."
   ]
  },
  {
   "cell_type": "code",
   "execution_count": null,
   "id": "743273e8",
   "metadata": {},
   "outputs": [],
   "source": [
    "# Inspect the last LM interaction to see the prompt and response\n",
    "print(\"Last LM interaction:\")\n",
    "print(\"=\" * 50)\n",
    "dspy.inspect_history(n=1)"
   ]
  },
  {
   "cell_type": "markdown",
   "id": "6e3e7b6c",
   "metadata": {},
   "source": [
    "## Chain-of-Thought (CoT)\n",
    "Use `dspy.ChainOfThought(Signature)` for tasks that benefit from explicit multi-step reasoning.\n",
    "Below, we solve a multi-step math word problem and capture the reasoning in a dedicated `steps` field so you can see it."
   ]
  },
  {
   "cell_type": "code",
   "execution_count": null,
   "id": "3db2404a",
   "metadata": {},
   "outputs": [],
   "source": [
    "# Define a Signature that asks for explicit steps + final answer\n",
    "class SolveWordProblem(dspy.Signature):\n",
    "    \"\"\"Solve the math word problem by reasoning step-by-step, then provide the final numeric answer.\"\"\"\n",
    "    problem = dspy.InputField(desc=\"A math word problem that requires multiple steps\")\n",
    "    steps = dspy.OutputField(desc=\"Step-by-step reasoning including intermediate calculations\")\n",
    "    answer = dspy.OutputField(desc=\"The final numeric answer\")\n",
    "\n",
    "# Create a CoT module for the new signature\n",
    "cot_solver = dspy.ChainOfThought(SolveWordProblem)\n",
    "\n",
    "# A multi-step problem designed for CoT\n",
    "problem = (\n",
    "    \"A factory produces 120 widgets per hour on Machine A and 80 widgets per hour on Machine B. \"\n",
    "    \"Machine A runs for 3.5 hours, then stops for maintenance. Machine B starts 1 hour later than A \"\n",
    "    \"but runs continuously for 4 hours. After maintenance, Machine A runs again for 1 hour at 75% \"\n",
    "    \"of its normal rate. How many widgets are produced in total?\"\n",
    ")\n",
    "\n",
    "solution = cot_solver(problem=problem)\n",
    "print(\"Steps:\\n\", solution.steps)\n",
    "print(\"\\nFinal Answer:\", solution.answer)"
   ]
  },
  {
   "cell_type": "markdown",
   "id": "b5f78620",
   "metadata": {},
   "source": [
    "## Teleprompting (auto few-shot)\n",
    "\n",
    "Teleprompting in DSPy automatically optimizes the prompts for a Module (like a Chain-of-Thought solver) by searching over few-shot demonstrations and small prompt variants. It picks the best configuration according to a metric you define.\n",
    "\n",
    "Train set: small labeled examples used to generate and select few-shot demos.\n",
    "\n",
    "### How bootstrapping works (high level)\n",
    "1. Start from your module (e.g., a CoT solver).\n",
    "2. Sample subsets of your training examples (up to `max_bootstrapped_demos`).\n",
    "3. For each subset, run the module on the training examples and score with your `metric`.\n",
    "4. Keep the best-performing subset and produce an optimized module that uses those few-shot demos in its prompt.\n",
    "\n",
    "In short, DSPy auto-selects the most helpful demonstrations from your training data, keeping the prompt small while maximizing task performance as measured by your metric."
   ]
  },
  {
   "cell_type": "code",
   "execution_count": null,
   "id": "00bac8fd",
   "metadata": {},
   "outputs": [],
   "source": [
    "# Teleprompting demo: optimize the CoT solver using a tiny training set\n",
    "from dspy.teleprompt import BootstrapFewShotWithRandomSearch\n",
    "\n",
    "# Tiny training set for the math solver\n",
    "trainset = [\n",
    "    dspy.Example(problem=\"Alice bakes 12 cookies per batch. She bakes 3 batches, then half a batch. Total?\",\n",
    "                 answer=\"42\").with_inputs(\"problem\"),\n",
    "    dspy.Example(problem=\"A runs 100/h for 2h, then 50/h for 1h. Total units?\",\n",
    "                 answer=\"250\").with_inputs(\"problem\"),\n",
    "]\n",
    "\n",
    "# Metric: numeric accuracy comparing extracted numbers\n",
    "def _to_num(x):\n",
    "    s = \"\".join(ch for ch in str(x) if (ch.isdigit() or ch == \".\")) or \"nan\"\n",
    "    try:\n",
    "        return float(s)\n",
    "    except Exception:\n",
    "        return None\n",
    "\n",
    "def numeric_accuracy(example, pred, trace=None):\n",
    "    return 1.0 if _to_num(pred.answer) == _to_num(example.answer) else 0.0\n",
    "\n",
    "# Start from your existing CoT module\n",
    "base_cot = dspy.ChainOfThought(SolveWordProblem)\n",
    "\n",
    "teleprompter = BootstrapFewShotWithRandomSearch(\n",
    "    metric=numeric_accuracy,\n",
    "    max_bootstrapped_demos=4\n",
    ")\n",
    "\n",
    "optimized_cot = teleprompter.compile(\n",
    "    base_cot,\n",
    "    trainset=trainset\n",
    ")\n",
    "\n",
    "# Compare base vs optimized on the original problem\n",
    "print(\"=== Original multi-step problem ===\")\n",
    "print(\"Problem:\", problem)\n",
    "print(\"Base:\", base_cot(problem=problem).answer)\n",
    "print(\"Optimized:\", optimized_cot(problem=problem).answer)"
   ]
  }
 ],
 "metadata": {
  "kernelspec": {
   "display_name": ".venv",
   "language": "python",
   "name": "python3"
  },
  "language_info": {
   "codemirror_mode": {
    "name": "ipython",
    "version": 3
   },
   "file_extension": ".py",
   "mimetype": "text/x-python",
   "name": "python",
   "nbconvert_exporter": "python",
   "pygments_lexer": "ipython3",
   "version": "3.9.6"
  }
 },
 "nbformat": 4,
 "nbformat_minor": 5
}
